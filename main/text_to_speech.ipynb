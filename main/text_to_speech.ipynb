{
  "nbformat": 4,
  "nbformat_minor": 0,
  "metadata": {
    "colab": {
      "provenance": [],
      "authorship_tag": "ABX9TyOhqTYlpdy9tfEKYJo1velC"
    },
    "kernelspec": {
      "name": "python3",
      "display_name": "Python 3"
    },
    "language_info": {
      "name": "python"
    }
  },
  "cells": [
    {
      "cell_type": "code",
      "execution_count": null,
      "metadata": {
        "id": "6W_xXs37G47j"
      },
      "outputs": [],
      "source": [
        "!pip install gTTS"
      ]
    },
    {
      "cell_type": "code",
      "source": [
        "from gtts import gTTS\n",
        "\n",
        "mytext = 'We are the ones who are going to make a difference in this world'\n",
        "language = 'en'\n",
        "  \n",
        "myobj = gTTS(text=mytext, lang=language, slow=False)\n",
        "\n",
        "myobj.save(\"GOATS.mp3\")"
      ],
      "metadata": {
        "id": "gO2KWYVwHDeD"
      },
      "execution_count": 2,
      "outputs": []
    }
  ]
}